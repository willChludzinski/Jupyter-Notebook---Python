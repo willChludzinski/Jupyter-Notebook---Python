{
 "cells": [
  {
   "cell_type": "markdown",
   "metadata": {},
   "source": [
    "### Assignment 1 - Python string\n",
    "Assignment to practice coding with python string\n",
    "\n",
    "Assignment, using questions at\n",
    "https://www.w3resource.com/python-exercises/string/\n",
    "\n",
    "Each question is a cell, with;\n",
    "+ question number from above link\n",
    "+ link to specific question explanation and sample solution\n",
    "+ \"# TODO replaceThisLineWithYourSolution\"\n",
    "\n",
    "Replace \"# TODO replaceThisLineWithYourSolution\" in below questions"
   ]
  },
  {
   "cell_type": "code",
   "execution_count": 17,
   "metadata": {},
   "outputs": [
    {
     "name": "stdout",
     "output_type": "stream",
     "text": [
      "key1 value1\n",
      "key2 value2\n"
     ]
    }
   ],
   "source": [
    "# refresh about python dictionary\n",
    "myDict={}\n",
    "myDictKeys=myDict.keys()\n",
    "for key in myDictKeys:\n",
    "    print(key)\n",
    "    \n",
    "    \n",
    "myDict2={\"key1\":\"value1\", \"key2\":\"value2\"}\n",
    "myDictKeys=myDict2.keys()\n",
    "for key in myDictKeys:\n",
    "    print(key, myDict2[key])\n"
   ]
  },
  {
   "cell_type": "code",
   "execution_count": 18,
   "metadata": {},
   "outputs": [
    {
     "name": "stdout",
     "output_type": "stream",
     "text": [
      "g\n",
      "o\n",
      "o\n",
      "g\n",
      "l\n",
      "e\n",
      ".\n",
      "c\n",
      "o\n",
      "m\n"
     ]
    }
   ],
   "source": [
    "# refresh about looping over string\n",
    "str1='google.com'\n",
    "for c in str1:\n",
    "    print(c)"
   ]
  },
  {
   "cell_type": "markdown",
   "metadata": {},
   "source": [
    "### A - string\n",
    "https://www.w3resource.com/python-exercises/string/"
   ]
  },
  {
   "cell_type": "code",
   "execution_count": 19,
   "metadata": {},
   "outputs": [
    {
     "name": "stdout",
     "output_type": "stream",
     "text": [
      "{'g': 2, 'o': 3, 'l': 1, 'e': 1, '.': 1, 'c': 1, 'm': 1}\n"
     ]
    }
   ],
   "source": [
    "# A_1, string#2\n",
    "# https://www.w3resource.com/python-exercises/string/python-data-type-string-exercise-2.php\n",
    "def charCountDict4str(str2count):\n",
    "    myDict={}\n",
    "    for c in str2count:\n",
    "        myDictKeys=myDict.keys()\n",
    "        if c in myDictKeys:\n",
    "            myDict[c] += 1\n",
    "        else:\n",
    "            myDict[c]=1\n",
    "    return myDict\n",
    "\n",
    "str1='google.com'\n",
    "print(charCountDict4str(str1))"
   ]
  },
  {
   "cell_type": "code",
   "execution_count": 1,
   "metadata": {},
   "outputs": [
    {
     "name": "stdout",
     "output_type": "stream",
     "text": [
      "w3ce\n",
      "w3w3\n",
      "\n"
     ]
    }
   ],
   "source": [
    "# A_2, string#3\n",
    "# https://www.w3resource.com/python-exercises/string/python-data-type-string-exercise-3.php\n",
    "def string_function(str):\n",
    "  if len(str) < 2:\n",
    "    return ''\n",
    "\n",
    "  return str[0:2] + str[-2:]\n",
    "\n",
    "print(string_both_ends('w3resource'))\n",
    "print(string_both_ends('w3'))\n",
    "print(string_both_ends('w'))"
   ]
  },
  {
   "cell_type": "code",
   "execution_count": 8,
   "metadata": {},
   "outputs": [
    {
     "name": "stdout",
     "output_type": "stream",
     "text": [
      "resta$t\n"
     ]
    }
   ],
   "source": [
    "# A_3, string#4\n",
    "# https://www.w3resource.com/python-exercises/string/python-data-type-string-exercise-4.php\n",
    "def str_change_char(str1):\n",
    "  char = str1[0]\n",
    "  str1 = str1.replace(char, '$')\n",
    "  str1 = char + str1[1:]\n",
    "\n",
    "  return str1\n",
    "\n",
    "print(str_change_char('restart'))"
   ]
  },
  {
   "cell_type": "code",
   "execution_count": 13,
   "metadata": {},
   "outputs": [
    {
     "name": "stdout",
     "output_type": "stream",
     "text": [
      "xycedsd abzws\n"
     ]
    }
   ],
   "source": [
    "# A_, string#5\n",
    "# https://www.w3resource.com/python-exercises/string/python-data-type-string-exercise-5.php\n",
    "def mixerFunc(a, b):\n",
    "  a1 = b[:2] + a[2:]\n",
    "  b1 = a[:2] + b[2:]\n",
    "\n",
    "  return a1 + ' ' + b1\n",
    "print(mixerFunc('abcedsd', 'xyzws'))"
   ]
  },
  {
   "cell_type": "code",
   "execution_count": 2,
   "metadata": {},
   "outputs": [
    {
     "name": "stdout",
     "output_type": "stream",
     "text": [
      "aa\n",
      "aaaing\n",
      "stringly\n"
     ]
    }
   ],
   "source": [
    "# A_, string#6\n",
    "# https://www.w3resource.com/python-exercises/string/python-data-type-string-exercise-6.php\n",
    "def strChange(str1):\n",
    "  length = len(str1)\n",
    "\n",
    "  if length > 2:\n",
    "    if str1[-3:] == 'ing':\n",
    "      str1 += 'ly'\n",
    "    else:\n",
    "      str1 += 'ing'\n",
    "\n",
    "  return str1\n",
    "print(strChange('aa'))\n",
    "print(strChange('aaa'))\n",
    "print(strChange('string'))"
   ]
  },
  {
   "cell_type": "code",
   "execution_count": 4,
   "metadata": {},
   "outputs": [
    {
     "name": "stdout",
     "output_type": "stream",
     "text": [
      "The lyrics are good!\n",
      "The lyrics are poor!\n"
     ]
    }
   ],
   "source": [
    "# A_, string#7\n",
    "# https://www.w3resource.com/python-exercises/string/python-data-type-string-exercise-7.php\n",
    "def notPoor(str1):\n",
    "  snot = str1.find('not')\n",
    "  spoor = str1.find('poor')\n",
    "  \n",
    "\n",
    "  if spoor > snot and snot>0 and spoor>0:\n",
    "    str1 = str1.replace(str1[snot:(spoor+4)], 'good')\n",
    "    return str1\n",
    "  else:\n",
    "    return str1\n",
    "print(notPoor('The lyrics are not that poor!'))\n",
    "print(notPoor('The lyrics are poor!'))"
   ]
  },
  {
   "cell_type": "code",
   "execution_count": 6,
   "metadata": {},
   "outputs": [
    {
     "name": "stdout",
     "output_type": "stream",
     "text": [
      "abcdefgh\n"
     ]
    }
   ],
   "source": [
    "# A_, string#8\n",
    "# https://www.w3resource.com/python-exercises/string/python-data-type-string-exercise-8.php\n",
    "def findLongest(words_list):\n",
    "    wordLen = []\n",
    "    for n in words_list:\n",
    "        wordLen.append((len(n), n))\n",
    "    wordLen.sort()\n",
    "    return wordLen[-1][1]\n",
    "\n",
    "print(findLongest([\"abc\", \"abcdef\", \"abcdefgh\"]))"
   ]
  },
  {
   "cell_type": "code",
   "execution_count": 8,
   "metadata": {},
   "outputs": [
    {
     "name": "stdout",
     "output_type": "stream",
     "text": [
      "est\n",
      "tes\n",
      "test\n"
     ]
    }
   ],
   "source": [
    "# A_, string#9\n",
    "# https://www.w3resource.com/python-exercises/string/python-data-type-string-exercise-9.php\n",
    "def removeChar(str, n):\n",
    "      first = str[:n] \n",
    "      last = str[n+1:]\n",
    "      return first + last\n",
    "print(removeChar('test', 0))\n",
    "print(removeChar('test', 3))\n",
    "print(removeChar('test', 5))"
   ]
  },
  {
   "cell_type": "code",
   "execution_count": 9,
   "metadata": {},
   "outputs": [
    {
     "name": "stdout",
     "output_type": "stream",
     "text": [
      "dbca\n",
      "52341\n"
     ]
    }
   ],
   "source": [
    "# A_, string#\n",
    "# https://www.w3resource.com/python-exercises/string/python-data-type-string-exercise-10.php\n",
    "def changeStr(str1):\n",
    "      return str1[-1:] + str1[1:-1] + str1[:1]\n",
    "\t  \n",
    "print(changeStr('abcd'))\n",
    "print(changeStr('12345'))"
   ]
  },
  {
   "cell_type": "code",
   "execution_count": 10,
   "metadata": {},
   "outputs": [
    {
     "name": "stdout",
     "output_type": "stream",
     "text": [
      "ace\n",
      "ac\n"
     ]
    }
   ],
   "source": [
    "# A_, string#11\n",
    "# https://www.w3resource.com/python-exercises/string/python-data-type-string-exercise-11.php\n",
    "def oddStr(str):\n",
    "  result = \"\" \n",
    "  for i in range(len(str)):\n",
    "    if i % 2 == 0:\n",
    "      result = result + str[i]\n",
    "  return result\n",
    "\n",
    "print(oddStr('abcdef'))\n",
    "print(oddStr('abc'))"
   ]
  },
  {
   "cell_type": "code",
   "execution_count": 12,
   "metadata": {},
   "outputs": [
    {
     "name": "stdout",
     "output_type": "stream",
     "text": [
      "{'the': 2, 'quick': 1, 'brown': 1, 'fox': 1, 'jumps': 1, 'over': 1, 'lazy': 1, 'dog.': 1}\n"
     ]
    }
   ],
   "source": [
    "# A_, string#12\n",
    "# https://www.w3resource.com/python-exercises/string/python-data-type-string-exercise-12.php\n",
    "def wordCount(str):\n",
    "    counts = dict()\n",
    "    words = str.split()\n",
    "\n",
    "    for word in words:\n",
    "        if word in counts:\n",
    "            counts[word] += 1\n",
    "        else:\n",
    "            counts[word] = 1\n",
    "\n",
    "    return counts\n",
    "\n",
    "print( wordCount('the quick brown fox jumps over the lazy dog.'))"
   ]
  },
  {
   "cell_type": "code",
   "execution_count": 16,
   "metadata": {},
   "outputs": [
    {
     "name": "stdout",
     "output_type": "stream",
     "text": [
      "What's your favourite language? hi\n",
      "My favourite language is (UPPERCASE)  HI\n",
      "My favourite language is (LOWERCASE) hi\n"
     ]
    }
   ],
   "source": [
    "# A_, string#13\n",
    "# https://www.w3resource.com/python-exercises/string/python-data-type-string-exercise-13.php\n",
    "userinput = input(\"What's your favourite language? \")\n",
    "print(\"My favourite language is (UPPERCASE) \", userinput.upper())\n",
    "print(\"My favourite language is (LOWERCASE)\", userinput.lower())"
   ]
  },
  {
   "cell_type": "code",
   "execution_count": 17,
   "metadata": {},
   "outputs": [
    {
     "name": "stdout",
     "output_type": "stream",
     "text": [
      "Input a comma separated sequence of wordsme,john,doe,rei,me\n",
      "doe,john,me,rei\n"
     ]
    }
   ],
   "source": [
    "# A_, string#14\n",
    "# https://www.w3resource.com/python-exercises/string/python-data-type-string-exercise-14.php\n",
    "items = input(\"Input a comma separated sequence of words\")\n",
    "words = [word for word in items.split(\",\")]\n",
    "print(\",\".join(sorted(list(set(words)))))"
   ]
  },
  {
   "cell_type": "code",
   "execution_count": 19,
   "metadata": {},
   "outputs": [
    {
     "name": "stdout",
     "output_type": "stream",
     "text": [
      "<i>help</i>\n",
      "<b>help me</b>\n"
     ]
    }
   ],
   "source": [
    "# A_, string#15\n",
    "# https://www.w3resource.com/python-exercises/string/python-data-type-string-exercise-15.php\n",
    "def addTags(tag, word):\n",
    "\treturn \"<%s>%s</%s>\" % (tag, word, tag)\n",
    "print(addTags('i', 'help'))\n",
    "print(addTags('b', 'help me'))"
   ]
  },
  {
   "cell_type": "code",
   "execution_count": 21,
   "metadata": {},
   "outputs": [
    {
     "name": "stdout",
     "output_type": "stream",
     "text": [
      "[[abc]]\n",
      "{{def}}\n",
      "<<ghi>>\n"
     ]
    }
   ],
   "source": [
    "# A_, string#16\n",
    "# https://www.w3resource.com/python-exercises/string/python-data-type-string-exercise-16.php\n",
    "def insert_sting_middle(str, word):\n",
    "\treturn str[:2] + word + str[2:]\n",
    "\n",
    "print(insert_sting_middle('[[]]', 'abc'))\n",
    "print(insert_sting_middle('{{}}', 'def'))\n",
    "print(insert_sting_middle('<<>>', 'ghi'))"
   ]
  },
  {
   "cell_type": "code",
   "execution_count": 23,
   "metadata": {},
   "outputs": [
    {
     "name": "stdout",
     "output_type": "stream",
     "text": [
      "bcbcbcbc\n",
      "ijijijij\n"
     ]
    }
   ],
   "source": [
    "# A_, string#17\n",
    "# https://www.w3resource.com/python-exercises/string/python-data-type-string-exercise-17.php\n",
    "def insertEnd(str):\n",
    "\tsub_str = str[-2:]\n",
    "\treturn sub_str * 4\n",
    "\n",
    "print(insertEnd('abc'))\n",
    "print(insertEnd('defghij'))"
   ]
  },
  {
   "cell_type": "code",
   "execution_count": 24,
   "metadata": {},
   "outputs": [
    {
     "name": "stdout",
     "output_type": "stream",
     "text": [
      "abc\n",
      "abc\n",
      "ab\n"
     ]
    }
   ],
   "source": [
    "# A_, string#18\n",
    "# NOTE write a function that returns substring of 1st N characters of a string \n",
    "# https://www.w3resource.com/python-exercises/string/python-data-type-string-exercise-18.php\n",
    "def firstThreeChars(str):\n",
    "\treturn str[:3] if len(str) > 3 else str\n",
    "\n",
    "print(firstThreeChars('abc'))\n",
    "print(firstThreeChars('abcde'))\n",
    "print(firstThreeChars('ab'))"
   ]
  },
  {
   "cell_type": "code",
   "execution_count": 25,
   "metadata": {},
   "outputs": [
    {
     "name": "stdout",
     "output_type": "stream",
     "text": [
      "https://www.w3resource.com/python-exercises\n",
      "https://www.w3resource.com/python\n"
     ]
    }
   ],
   "source": [
    "# A_, string#19\n",
    "# NOTE wording of question is confusing. \n",
    "#      Write a function that will return the substring till the 1st occurance of a string from end\n",
    "# https://www.w3resource.com/python-exercises/string/python-data-type-string-exercise-19.php\n",
    "str1 = 'https://www.w3resource.com/python-exercises/string'\n",
    "print(str1.rsplit('/', 1)[0])\n",
    "print(str1.rsplit('-', 1)[0])"
   ]
  },
  {
   "cell_type": "code",
   "execution_count": 26,
   "metadata": {},
   "outputs": [
    {
     "name": "stdout",
     "output_type": "stream",
     "text": [
      "dcba\n",
      "hello\n"
     ]
    }
   ],
   "source": [
    "# A_, string#20\n",
    "# https://www.w3resource.com/python-exercises/string/python-data-type-string-exercise-20.php\n",
    "def reverse(str1):\n",
    "    if len(str1) % 4 == 0:\n",
    "       return ''.join(reversed(str1))\n",
    "    return str1\n",
    "\n",
    "print(reverse('abcd'))\n",
    "print(reverse('hello'))"
   ]
  },
  {
   "cell_type": "code",
   "execution_count": 28,
   "metadata": {},
   "outputs": [
    {
     "name": "stdout",
     "output_type": "stream",
     "text": [
      "abcd\n",
      "ABCD\n"
     ]
    }
   ],
   "source": [
    "# A_, string#21\n",
    "# https://www.w3resource.com/python-exercises/string/python-data-type-string-exercise-21.php\n",
    "def toUpper(str1):\n",
    "    num_upper = 0\n",
    "    for letter in str1[:4]: \n",
    "        if letter.upper() == letter:\n",
    "            num_upper += 1\n",
    "    if num_upper >= 2:\n",
    "        return str1.upper()\n",
    "    return str1\n",
    "\n",
    "print(toUpper('abcd'))\n",
    "print(toUpper('ABcD'))"
   ]
  },
  {
   "cell_type": "code",
   "execution_count": 29,
   "metadata": {},
   "outputs": [
    {
     "name": "stdout",
     "output_type": "stream",
     "text": [
      "['3', 'c', 'e', 'e', 'o', 'r', 'r', 's', 'u', 'w']\n",
      "['b', 'c', 'i', 'k', 'n', 'o', 'q', 'r', 'u', 'w']\n"
     ]
    }
   ],
   "source": [
    "# A_, string#22\n",
    "# https://www.w3resource.com/python-exercises/string/python-data-type-string-exercise-22.php\n",
    "def lexiSort(s):\n",
    "    return sorted(sorted(s), key=str.upper)\n",
    "\n",
    "print(lexiSort('w3resource'))\n",
    "print(lexiSort('quickbrown'))"
   ]
  },
  {
   "cell_type": "code",
   "execution_count": 31,
   "metadata": {},
   "outputs": [
    {
     "name": "stdout",
     "output_type": "stream",
     "text": [
      "Python testing\n",
      "\n",
      "Python testing\n"
     ]
    }
   ],
   "source": [
    "# A_, string#23\n",
    "# https://www.w3resource.com/python-exercises/string/python-data-type-string-exercise-23.php\n",
    "str1='Python testing\\n'\n",
    "print(str1)\n",
    "print(str1.rstrip())"
   ]
  },
  {
   "cell_type": "code",
   "execution_count": 35,
   "metadata": {},
   "outputs": [
    {
     "name": "stdout",
     "output_type": "stream",
     "text": [
      "True\n"
     ]
    }
   ],
   "source": [
    "# A_, string#24\n",
    "# https://www.w3resource.com/python-exercises/string/python-data-type-string-exercise-24.php\n",
    "string = \"google.com\"\n",
    "print(string.startswith(\"o\"))"
   ]
  },
  {
   "cell_type": "code",
   "execution_count": 36,
   "metadata": {},
   "outputs": [
    {
     "name": "stdout",
     "output_type": "stream",
     "text": [
      "\n",
      "['c', 'd', 'e']\n",
      "\n"
     ]
    }
   ],
   "source": [
    "# A_, string#25\n",
    "# https://www.w3resource.com/python-exercises/string/python-data-type-string-exercise-25.php\n",
    "def caesar_encrypt(realText, step):\n",
    "\toutText = []\n",
    "\tcryptText = []\n",
    "\t\n",
    "\tuppercase = ['A', 'B', 'C', 'D', 'E', 'F', 'G', 'H', 'I', 'J', 'K', 'L', 'M', 'N', 'O', 'P', 'Q', 'R', 'S', 'T', 'U', 'V', 'W', 'X', 'Y', 'Z']\n",
    "\tlowercase = ['a', 'b', 'c', 'd', 'e', 'f', 'g', 'h', 'i', 'j', 'k', 'l', 'm', 'n', 'o', 'p', 'q', 'r', 's', 't', 'u', 'v', 'w', 'x', 'y', 'z']\n",
    "\n",
    "\tfor eachLetter in realText:\n",
    "\t\tif eachLetter in uppercase:\n",
    "\t\t\tindex = uppercase.index(eachLetter)\n",
    "\t\t\tcrypting = (index + step) % 26\n",
    "\t\t\tcryptText.append(crypting)\n",
    "\t\t\tnewLetter = uppercase[crypting]\n",
    "\t\t\toutText.append(newLetter)\n",
    "\t\telif eachLetter in lowercase:\n",
    "\t\t\tindex = lowercase.index(eachLetter)\n",
    "\t\t\tcrypting = (index + step) % 26\n",
    "\t\t\tcryptText.append(crypting)\n",
    "\t\t\tnewLetter = lowercase[crypting]\n",
    "\t\t\toutText.append(newLetter)\n",
    "\treturn outText\n",
    "\n",
    "code = caesar_encrypt('abc', 2)\n",
    "print()\n",
    "print(code)\n",
    "print()"
   ]
  },
  {
   "cell_type": "code",
   "execution_count": 38,
   "metadata": {},
   "outputs": [
    {
     "name": "stdout",
     "output_type": "stream",
     "text": [
      "\n",
      "   Python is a widely used high-level, general-\n",
      "purpose, interpreted,   dynamic programming\n",
      "language. Its design philosophy emphasizes   code\n",
      "readability, and its syntax allows programmers to\n",
      "express   concepts in fewer lines of code than\n",
      "possible in languages such   as C++ or Java.\n",
      "\n"
     ]
    }
   ],
   "source": [
    "# A_, string#26\n",
    "# https://www.w3resource.com/python-exercises/string/python-data-type-string-exercise-26.php\n",
    "import textwrap\n",
    "sample_text = '''\n",
    "  Python is a widely used high-level, general-purpose, interpreted,\n",
    "  dynamic programming language. Its design philosophy emphasizes\n",
    "  code readability, and its syntax allows programmers to express\n",
    "  concepts in fewer lines of code than possible in languages such\n",
    "  as C++ or Java.\n",
    "  '''\n",
    "print()\n",
    "print(textwrap.fill(sample_text, width=50))\n",
    "print()"
   ]
  },
  {
   "cell_type": "code",
   "execution_count": null,
   "metadata": {},
   "outputs": [],
   "source": [
    "# A_, string#27\n",
    "# https://www.w3resource.com/python-exercises/string/python-data-type-string-exercise-27.php\n",
    "import textwrap\n",
    "sample_text = '''\n",
    "    Python is a widely used high-level, general-purpose, interpreted,\n",
    "    dynamic programming language. Its design philosophy emphasizes\n",
    "    code readability, and its syntax allows programmers to express\n",
    "    concepts in fewer lines of code than possible in languages such\n",
    "    as C++ or Java.\n",
    "    '''\n",
    "text_without_Indentation = textwrap.dedent(sample_text)\n",
    "print()\n",
    "print(text_without_Indentation )\n",
    "print()"
   ]
  },
  {
   "cell_type": "code",
   "execution_count": 40,
   "metadata": {},
   "outputs": [
    {
     "name": "stdout",
     "output_type": "stream",
     "text": [
      "\n",
      ">  Python is a widely used high-level, general-\n",
      "> purpose, interpreted, dynamic programming\n",
      "> language. Its design philosophy emphasizes code\n",
      "> readability, and its syntax allows programmers to\n",
      "> express concepts in fewer lines of code than\n",
      "> possible in languages such as C++ or Java.\n",
      "\n"
     ]
    }
   ],
   "source": [
    "# A_, string#28\n",
    "# https://www.w3resource.com/python-exercises/string/python-data-type-string-exercise-28.php\n",
    "import textwrap\n",
    "sample_text ='''\n",
    "    Python is a widely used high-level, general-purpose, interpreted,\n",
    "    dynamic programming language. Its design philosophy emphasizes\n",
    "    code readability, and its syntax allows programmers to express\n",
    "    concepts in fewer lines of code than possible in languages such\n",
    "    as C++ or Java.\n",
    "    '''\n",
    "text_without_Indentation = textwrap.dedent(sample_text)\n",
    "wrapped = textwrap.fill(text_without_Indentation, width=50)\n",
    "#wrapped += '\\n\\nSecond paragraph after a blank line.'\n",
    "final = textwrap.indent(wrapped, '> ')\n",
    "print()\n",
    "print(final)\n",
    "print()"
   ]
  },
  {
   "cell_type": "code",
   "execution_count": 41,
   "metadata": {},
   "outputs": [
    {
     "name": "stdout",
     "output_type": "stream",
     "text": [
      "\n",
      "Python is a widely used high-level, general-purpose, interpreted, dynamic\n",
      "    programming language. Its design philosophy emphasizes code readability, and\n",
      "    its syntax allows programmers to express concepts in fewer lines of code\n",
      "    than possible in languages such as C++ or Java.\n",
      "\n"
     ]
    }
   ],
   "source": [
    "# A_, string#29\n",
    "# https://www.w3resource.com/python-exercises/string/python-data-type-string-exercise-29.php\n",
    "import textwrap\n",
    "sample_text ='''\n",
    "Python is a widely used high-level, general-purpose, interpreted, dynamic\n",
    "programming language. Its design philosophy emphasizes code readability,\n",
    "and its syntax allows programmers to express concepts in fewer lines of\n",
    "code than possible in languages such as C++ or Java.\n",
    "    '''\n",
    "\n",
    "text1 =  textwrap.dedent(sample_text).strip()\n",
    "print()\n",
    "print(textwrap.fill(text1,\n",
    "                    initial_indent='',\n",
    "                    subsequent_indent=' ' * 4,\n",
    "                    width=80,\n",
    "                    ))\n",
    "print()"
   ]
  },
  {
   "cell_type": "code",
   "execution_count": 42,
   "metadata": {},
   "outputs": [
    {
     "name": "stdout",
     "output_type": "stream",
     "text": [
      "\n",
      "Original Number:  3000000\n",
      "Formatted Number with comma separator: 3,000,000\n",
      "Original Number:  30000000\n",
      "Formatted Number with comma separator: 30,000,000\n",
      "\n"
     ]
    }
   ],
   "source": [
    "# A_, string#35\n",
    "# https://www.w3resource.com/python-exercises/string/python-data-type-string-exercise-35.php\n",
    "x = 3000000\n",
    "y = 30000000\n",
    "print(\"\\nOriginal Number: \", x)\n",
    "print(\"Formatted Number with comma separator: \"+\"{:,}\".format(x));\n",
    "print(\"Original Number: \", y)\n",
    "print(\"Formatted Number with comma separator: \"+\"{:,}\".format(y));\n",
    "print()"
   ]
  },
  {
   "cell_type": "code",
   "execution_count": null,
   "metadata": {},
   "outputs": [],
   "source": [
    "# A_, string#38\n",
    "# https://www.w3resource.com/python-exercises/string/python-data-type-string-exercise-38.php\n",
    "str1 = 'The quick brown fox jumps over the lazy dog.'\n",
    "print()\n",
    "print(str1.count(\"fox\"))\n",
    "print()"
   ]
  },
  {
   "cell_type": "code",
   "execution_count": 43,
   "metadata": {},
   "outputs": [
    {
     "name": "stdout",
     "output_type": "stream",
     "text": [
      "\n",
      "abcdef\n",
      "Hello world\n",
      "\n"
     ]
    }
   ],
   "source": [
    "# A_, string#39\n",
    "# https://www.w3resource.com/python-exercises/string/python-data-type-string-exercise-39.php\n",
    "def reverse_string(str1):\n",
    "    return ''.join(reversed(str1))\n",
    "print()\n",
    "print(reverse(\"abcdef\"))\n",
    "print(reverse(\"Hello world\"))\n",
    "print()"
   ]
  },
  {
   "cell_type": "code",
   "execution_count": 45,
   "metadata": {},
   "outputs": [
    {
     "name": "stdout",
     "output_type": "stream",
     "text": [
      "dog. lazy the over jumps fox brown quick The\n",
      "Exercises. Python\n"
     ]
    }
   ],
   "source": [
    "# A_, string#40\n",
    "# https://www.w3resource.com/python-exerpcises/string/python-data-type-string-exercise-40.php\n",
    "def reverseWords(text):\n",
    "    for line in text.split('\\n'):\n",
    "        return(' '.join(line.split()[::-1]))\n",
    "print(reverseWords(\"The quick brown fox jumps over the lazy dog.\"))\n",
    "print(reverseWords(\"Python Exercises.\"))"
   ]
  },
  {
   "cell_type": "code",
   "execution_count": 47,
   "metadata": {},
   "outputs": [
    {
     "name": "stdout",
     "output_type": "stream",
     "text": [
      "\n",
      "Original String: \n",
      "The quick brown fox jumps over the lazy dog.\n",
      "After stripping a,e,i,o,u\n",
      "Th qck brwn fx jmps vr th lzy dg.\n",
      "\n"
     ]
    }
   ],
   "source": [
    "# A_, string#41\n",
    "# https://www.w3resource.com/python-exerpcises/string/python-data-type-string-exercise-41.php\n",
    "def removeChars(str, chars):\n",
    "    return \"\".join(c for c in str if c not in chars)\n",
    "\n",
    "print(\"\\nOriginal String: \")\n",
    "print(\"The quick brown fox jumps over the lazy dog.\")\n",
    "print(\"After stripping a,e,i,o,u\")      \n",
    "print(removeChars(\"The quick brown fox jumps over the lazy dog.\", \"aeiou\"))\n",
    "print()"
   ]
  },
  {
   "cell_type": "code",
   "execution_count": 48,
   "metadata": {},
   "outputs": [
    {
     "name": "stdout",
     "output_type": "stream",
     "text": [
      "o 4\n",
      "e 3\n",
      "t 2\n",
      "h 2\n",
      "u 2\n",
      "r 2\n"
     ]
    }
   ],
   "source": [
    "# A_, string#42\n",
    "# https://www.w3resource.com/python-exercises/string/python-data-type-string-exercise-42.php\n",
    "import collections\n",
    "str1 = 'thequickbrownfoxjumpsoverthelazydog'\n",
    "d = collections.defaultdict(int)\n",
    "for c in str1:\n",
    "    d[c] += 1\n",
    "\n",
    "for c in sorted(d, key=d.get, reverse=True):\n",
    "  if d[c] > 1:\n",
    "      print('%s %d' % (c, d[c]))"
   ]
  },
  {
   "cell_type": "code",
   "execution_count": 49,
   "metadata": {},
   "outputs": [
    {
     "name": "stdout",
     "output_type": "stream",
     "text": [
      "Current character g position at 0\n",
      "Current character o position at 1\n",
      "Current character o position at 2\n",
      "Current character g position at 3\n",
      "Current character l position at 4\n",
      "Current character e position at 5\n"
     ]
    }
   ],
   "source": [
    "# A_, string#44\n",
    "# https://www.w3resource.com/python-exercises/string/python-data-type-string-exercise-44.php\n",
    "str1 = \"google\"\n",
    "for index, char in enumerate(str1):\n",
    "    print(\"Current character\", char, \"position at\", index )"
   ]
  },
  {
   "cell_type": "code",
   "execution_count": 51,
   "metadata": {},
   "outputs": [
    {
     "name": "stdout",
     "output_type": "stream",
     "text": [
      "True\n",
      "True\n"
     ]
    }
   ],
   "source": [
    "# A_, string#45\n",
    "# https://www.w3resource.com/python-exercises/string/python-data-type-string-exercise-45.php\n",
    "import string\n",
    "alphabet = set(string.ascii_lowercase)\n",
    "inputstring = 'The quick brown fox jumps over the lazy dog'\n",
    "print(set(inputstring.lower()) >= alphabet)\n",
    "input_string = 'The quick brown fox jumps over the lazy cat'\n",
    "print(set(inputstring.lower()) >= alphabet)"
   ]
  },
  {
   "cell_type": "code",
   "execution_count": 52,
   "metadata": {},
   "outputs": [
    {
     "name": "stdout",
     "output_type": "stream",
     "text": [
      "['The', 'quick', 'brown', 'fox', 'jumps', 'over', 'the', 'lazy', 'dog.']\n",
      "['The', 'quick', 'brown', 'fox', 'jumps', 'over', 'the', 'lazy', 'dog.']\n"
     ]
    }
   ],
   "source": [
    "# A_, string#46\n",
    "# NOTE write a function that returns a list made out of substrings in a string using provided separator string\n",
    "# list4str(inputStr, separatorStr)\n",
    "str1 = \"The quick brown fox jumps over the lazy dog.\"\n",
    "print(str1.split(' '))\n",
    "str1 = \"The-quick-brown-fox-jumps-over-the-lazy-dog.\"\n",
    "print(str1.split('-'))\n",
    "\n"
   ]
  },
  {
   "cell_type": "code",
   "execution_count": 53,
   "metadata": {},
   "outputs": [
    {
     "name": "stdout",
     "output_type": "stream",
     "text": [
      "('of', 4)\n"
     ]
    }
   ],
   "source": [
    "# A_, string#56\n",
    "# https://www.w3resource.com/python-exercises/string/python-data-type-string-exercise-56.php\n",
    "def word_count(str):\n",
    "    counts = dict()\n",
    "    words = str.split()\n",
    "\n",
    "    for word in words:\n",
    "        if word in counts:\n",
    "            counts[word] += 1\n",
    "        else:\n",
    "            counts[word] = 1\n",
    "\n",
    "    counts_x = sorted(counts.items(), key=lambda kv: kv[1])\n",
    "    #print(counts_x)\n",
    "    return counts_x[-2]\n",
    " \n",
    "print(word_count(\"Both of these issues are fixed by postponing the evaluation of annotations. Instead of compiling code which executes expressions in annotations at their definition time, the compiler stores the annotation in a string form equivalent to the AST of the expression in question. If needed, annotations can be resolved at runtime using typing.get_type_hints(). In the common case where this is not required, the annotations are cheaper to store (since short strings are interned by the interpreter) and make startup time faster.\"))\n"
   ]
  },
  {
   "cell_type": "code",
   "execution_count": 55,
   "metadata": {},
   "outputs": [
    {
     "name": "stdout",
     "output_type": "stream",
     "text": [
      "t\n",
      "b\n"
     ]
    }
   ],
   "source": [
    "# A_, string#59\n",
    "# https://www.w3resource.com/python-exercises/string/python-data-type-string-exercise-59.php\n",
    "def getMaxChar(str1):\n",
    "  ASCII_SIZE = 256\n",
    "  ctr = [0] * ASCII_SIZE\n",
    "  max = -1\n",
    "  ch = ''\n",
    "  for i in str1:\n",
    "    ctr[ord(i)]+=1;\n",
    " \n",
    "  for i in str1:\n",
    "    if max < ctr[ord(i)]:\n",
    "      max = ctr[ord(i)]\n",
    "      ch = i\n",
    "  return ch\n",
    "\n",
    "print(getMaxChar(\"Python: Get file creation and modification date/times\"))\n",
    "print(getMaxChar(\"abcdefghijkb\"))"
   ]
  },
  {
   "cell_type": "code",
   "execution_count": 57,
   "metadata": {},
   "outputs": [
    {
     "name": "stdout",
     "output_type": "stream",
     "text": [
      "PythoN ExerciseS PracticE SolutioN\n",
      "GooglE\n"
     ]
    }
   ],
   "source": [
    "# A_, string#60\n",
    "# https://www.w3resource.com/python-exercises/string/python-data-type-string-exercise-60.php\n",
    "def capitalize_first_last_letters(str1):\n",
    "     str1 = result = str1.title()\n",
    "     result =  \"\"\n",
    "     for word in str1.split():\n",
    "        result += word[:-1] + word[-1].upper() + \" \"\n",
    "     return result[:-1]  \n",
    "     \n",
    "print(capitalize_first_last_letters(\"python exercises practice solution\"))\n",
    "print(capitalize_first_last_letters(\"google\"))"
   ]
  },
  {
   "cell_type": "code",
   "execution_count": null,
   "metadata": {},
   "outputs": [],
   "source": [
    "# A_, string#61\n",
    "# https://www.w3resource.com/python-exercises/string/python-data-type-string-exercise-61.php\n",
    "from collections import OrderedDict\n",
    "def remove_duplicate(str1):\n",
    "  return \"\".join(OrderedDict.fromkeys(str1))\n",
    "     \n",
    "print(remove_duplicate(\"python exercises practice solution\"))\n",
    "print(remove_duplicate(\"google\"))"
   ]
  },
  {
   "cell_type": "code",
   "execution_count": 60,
   "metadata": {},
   "outputs": [
    {
     "name": "stdout",
     "output_type": "stream",
     "text": [
      "15\n",
      "10\n"
     ]
    }
   ],
   "source": [
    "# A_, string#62\n",
    "# https://www.w3resource.com/python-exercises/string/python-data-type-string-exercise-62.php\n",
    "def sum_digits_string(str1):\n",
    "    sum_digit = 0\n",
    "    for x in str1:\n",
    "        if x.isdigit() == True:\n",
    "            z = int(x)\n",
    "            sum_digit = sum_digit + z\n",
    "\n",
    "    return sum_digit\n",
    "     \n",
    "print(sum_digits_string(\"123abcd45\"))\n",
    "print(sum_digits_string(\"abcd1234\"))"
   ]
  },
  {
   "cell_type": "code",
   "execution_count": 61,
   "metadata": {},
   "outputs": [
    {
     "name": "stdout",
     "output_type": "stream",
     "text": [
      "255.24.1.1\n",
      "127.0.0.1\n"
     ]
    }
   ],
   "source": [
    "# A_, string#63\n",
    "# https://www.w3resource.com/python-exercises/string/python-data-type-string-exercise-63.php\n",
    "def removeZeros(ip_add):\n",
    "  new_ip_add = \".\".join([str(int(i)) for i in ip_add.split(\".\")])  \n",
    "  return new_ip_add ;\n",
    "\n",
    "print(removeZeros(\"255.024.01.01\"))\n",
    "print(removeZeros(\"127.0.0.01 \"))"
   ]
  },
  {
   "cell_type": "code",
   "execution_count": null,
   "metadata": {},
   "outputs": [],
   "source": []
  }
 ],
 "metadata": {
  "kernelspec": {
   "display_name": "Python 3",
   "language": "python",
   "name": "python3"
  },
  "language_info": {
   "codemirror_mode": {
    "name": "ipython",
    "version": 3
   },
   "file_extension": ".py",
   "mimetype": "text/x-python",
   "name": "python",
   "nbconvert_exporter": "python",
   "pygments_lexer": "ipython3",
   "version": "3.7.1"
  }
 },
 "nbformat": 4,
 "nbformat_minor": 2
}
