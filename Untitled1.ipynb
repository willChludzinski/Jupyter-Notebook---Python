{
 "cells": [
  {
   "cell_type": "code",
   "execution_count": 1,
   "metadata": {},
   "outputs": [
    {
     "name": "stdout",
     "output_type": "stream",
     "text": [
      "0\n",
      "0\n",
      "0.2\n",
      "2.2\n"
     ]
    }
   ],
   "source": [
    "def relu(input):\n",
    "    output = max(0, input)\n",
    "    return output\n",
    "\n",
    "print(relu(-1.2))\n",
    "print(relu(-0.2))\n",
    "print(relu(0.2))\n",
    "print(relu(2.2))"
   ]
  },
  {
   "cell_type": "code",
   "execution_count": 4,
   "metadata": {},
   "outputs": [
    {
     "data": {
      "image/png": "[encoded data removed]",
      "text/plain": [
       "<Figure size 432x288 with 1 Axes>"
      ]
     },
     "metadata": {
      "needs_background": "light"
     },
     "output_type": "display_data"
    }
   ],
   "source": [
    "import numpy as np\n",
    "import matplotlib.pyplot as plt\n",
    "import math\n",
    "%matplotlib inline\n",
    "def gradient_descent(x,y,iterations, learning_rate):\n",
    "    #plot the x y as red dots in plot\n",
    "    plt.scatter(x,y,color='red', marker=\"+\", linewidth='5')\n",
    "    \n",
    "    m_current = b_current = 0\n",
    "    N=len(x)\n",
    "    for i in range(iterations):\n",
    "        y_predeicted = m_current*x + b_current\n",
    "        plt.plot(x,y_predeicted, color=\"blue\")\n",
    "        loss_current = (1/N) * sum([val**2 for val in (y-y_predeicted)])\n",
    "        if math.isclose(loss_current, loss_previous, rel_tol):\n",
    "            break\n",
    "        loss_previous = loss_current\n",
    "        #derivatives\n",
    "        m_deriv = -(2/N)*sum(x*(y-y_predeicted))\n",
    "    \n",
    "    #note below x,y fits y=2*x+3\n",
    "x=np.array([1,2,3,4,5])\n",
    "y=np.array([5,7,9,11,13])\n",
    "iterations=10\n",
    "learning_rate=0.1\n",
    "\n",
    "gradient_descent(x,y,iterations,learning_rate)\n"
   ]
  },
  {
   "cell_type": "code",
   "execution_count": null,
   "metadata": {},
   "outputs": [],
   "source": []
  }
 ],
 "metadata": {
  "kernelspec": {
   "display_name": "Python 3",
   "language": "python",
   "name": "python3"
  },
  "language_info": {
   "codemirror_mode": {
    "name": "ipython",
    "version": 3
   },
   "file_extension": ".py",
   "mimetype": "text/x-python",
   "name": "python",
   "nbconvert_exporter": "python",
   "pygments_lexer": "ipython3",
   "version": "3.7.1"
  }
 },
 "nbformat": 4,
 "nbformat_minor": 2
}
