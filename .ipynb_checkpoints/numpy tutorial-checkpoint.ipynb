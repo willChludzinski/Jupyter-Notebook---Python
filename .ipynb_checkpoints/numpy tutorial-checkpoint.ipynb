{
 "cells": [
  {
   "cell_type": "code",
   "execution_count": 1,
   "metadata": {},
   "outputs": [
    {
     "name": "stdout",
     "output_type": "stream",
     "text": [
      "pyList1 + pyList2 =  [1, 2, 3, 4, 5, 10, 20, 30, 40, 50]\n",
      "npNdArraySum: [11 22 33 44 55]\n"
     ]
    }
   ],
   "source": [
    "#WHY NUMPY \n",
    "import numpy as np\n",
    "\n",
    "\n",
    "pyList1=[1,2,3,4,5]\n",
    "pyList2=[10,20,30,40,50]\n",
    "print('pyList1 + pyList2 = ', pyList1+pyList2)\n",
    "\n",
    "npNdArray1=np.array([1,2,3,4,5])\n",
    "npNdArray2=np.array([10,20,30,40,50])\n",
    "npNdArraySum = npNdArray1 + npNdArray2\n",
    "\n",
    "print('npNdArraySum:', npNdArraySum)\n",
    "\n"
   ]
  },
  {
   "cell_type": "code",
   "execution_count": 7,
   "metadata": {},
   "outputs": [
    {
     "name": "stdout",
     "output_type": "stream",
     "text": [
      "<class 'tuple'>\n",
      "<class 'tuple'>\n",
      "(1, 2)\n",
      "(1, 2)\n",
      "\n",
      " \n",
      " \n",
      "\n",
      "<class 'list'>\n",
      "<class 'numpy.ndarray'>\n",
      "1 100\n",
      "2 200\n",
      "\n",
      " \n",
      " \n",
      "\n",
      "<class 'tuple'>\n",
      "(1, 100)\n",
      "<class 'tuple'>\n",
      "(2, 200)\n"
     ]
    }
   ],
   "source": [
    "#what makes a tuple; () or , \n",
    "myTuple1=(1,2)\n",
    "myTuple2=1,2\n",
    "print(type(myTuple1))\n",
    "print(type(myTuple2))\n",
    "print(myTuple1)\n",
    "print(myTuple2)\n",
    "\n",
    "print('\\n \\n \\n')\n",
    "\n",
    "print(type(pyList1))\n",
    "print(type(npNdArray1))\n",
    "for item1, item2 in zip([1,2], [100,200]):     #zip creates a list of tuples, makes a pair 1, 100, 2, 200, etc\n",
    "    print(item1,item2)\n",
    "    \n",
    "print('\\n \\n \\n')\n",
    "for myPairTuple in zip([1,2], [100,200]):\n",
    "    print(type(myPairTuple))\n",
    "    print(myPairTuple)"
   ]
  },
  {
   "cell_type": "code",
   "execution_count": 9,
   "metadata": {},
   "outputs": [
    {
     "name": "stdout",
     "output_type": "stream",
     "text": [
      "npNdArray1: [1 2 3 4 5]\n",
      "npNdArray1: [1 2 3 4 5]\n",
      "+ [11 22 33 44 55]\n",
      "- [ 9 18 27 36 45]\n",
      "* [ 10  40  90 160 250]\n",
      "/ [10. 10. 10. 10. 10.]\n"
     ]
    }
   ],
   "source": [
    "print('npNdArray1:', npNdArray1)\n",
    "print('npNdArray1:', npNdArray1)\n",
    "print('+', npNdArray2 + npNdArray1)\n",
    "print('-', npNdArray2 - npNdArray1)\n",
    "print('*', npNdArray2 * npNdArray1)\n",
    "print('/', npNdArray2 / npNdArray1)"
   ]
  },
  {
   "cell_type": "code",
   "execution_count": 10,
   "metadata": {},
   "outputs": [
    {
     "name": "stdout",
     "output_type": "stream",
     "text": [
      "31.8 ms ± 753 µs per loop (mean ± std. dev. of 7 runs, 10 loops each)\n"
     ]
    }
   ],
   "source": [
    "#create a large python list and sum them up then times it using ipython\n",
    "pyListMillion=list(range(1000000))\n",
    "%timeit sum(pyListMillion)"
   ]
  },
  {
   "cell_type": "code",
   "execution_count": 13,
   "metadata": {},
   "outputs": [
    {
     "name": "stdout",
     "output_type": "stream",
     "text": [
      "472 µs ± 13.3 µs per loop (mean ± std. dev. of 7 runs, 1000 loops each)\n"
     ]
    }
   ],
   "source": [
    "npNdArrayMillion=np.array(pyListMillion)\n",
    "%timeit np.sum(npNdArrayMillion)\n",
    "#numpy sum is about 50x faster"
   ]
  },
  {
   "cell_type": "code",
   "execution_count": 26,
   "metadata": {},
   "outputs": [
    {
     "name": "stdout",
     "output_type": "stream",
     "text": [
      "<class 'numpy.ndarray'>\n",
      "<class 'numpy.ndarray'>\n",
      "<class 'numpy.ndarray'>\n",
      "int32\n",
      "float64\n",
      "float64\n",
      "1\n",
      "1\n",
      "1 \n",
      "\n",
      "2\n",
      "(5,)\n",
      "(2, 2)\n",
      "20\n",
      "16\n"
     ]
    }
   ],
   "source": [
    "npArray_1=np.array([0, 1, 2, 3, 4])\n",
    "npArray_2=np.array([0.0, 0.1, 0.2, 0.3, 0.4])\n",
    "npArray_3=np.array([0, 1, 2, 3, 4.1])\n",
    "npArray2d_1=np.array([[1, 2], [2, 3]])\n",
    "\n",
    "\n",
    "print(type(npArray_1))\n",
    "print(type(npArray_2))\n",
    "print(type(npArray_3))\n",
    "#dtype to get the type of elements of np array\n",
    "print(npArray_1.dtype)\n",
    "print(npArray_2.dtype)\n",
    "print(npArray_3.dtype)\n",
    "#ndim to get dimensions of np array\n",
    "print(npArray_1.ndim)\n",
    "print(npArray_2.ndim)\n",
    "print(npArray_3.ndim, '\\n')\n",
    "print(npArray2d_1.ndim)\n",
    "\n",
    "#shape returns the tuple listing the legnth of the array on each dimension\n",
    "print(npArray_1.shape)\n",
    "print(npArray2d_1.shape)   #first dimension is the array elements, then the second is what each element contains\n",
    "\n",
    "#nbytes returns the number of bytes used by data portion of the array\n",
    "print(npArray_1.nbytes)\n",
    "print(npArray2d_1.nbytes)"
   ]
  },
  {
   "cell_type": "code",
   "execution_count": 28,
   "metadata": {},
   "outputs": [
    {
     "name": "stdout",
     "output_type": "stream",
     "text": [
      "2\n",
      "[ 0  1  2  3 40]\n"
     ]
    }
   ],
   "source": [
    "#np array index\n",
    "npArray_1=np.array([0,1,2,3,4])\n",
    "print(npArray_1[2])\n",
    "npArray_1[4]=40\n",
    "print(npArray_1)"
   ]
  },
  {
   "cell_type": "code",
   "execution_count": 32,
   "metadata": {},
   "outputs": [
    {
     "name": "stdout",
     "output_type": "stream",
     "text": [
      "range(0, 11)\n",
      "[ 0  1  2  3  4  5  6  7  8  9 10]\n",
      "[ 0.          3.14159265  6.28318531  9.42477796 12.56637061 15.70796327\n",
      " 18.84955592 21.99114858 25.13274123 28.27433388 31.41592654]\n",
      "[ 0.00000000e+00  1.22464680e-16 -2.44929360e-16  3.67394040e-16\n",
      " -4.89858720e-16  6.12323400e-16 -7.34788079e-16  8.57252759e-16\n",
      " -9.79717439e-16  1.10218212e-15 -1.22464680e-15]\n"
     ]
    }
   ],
   "source": [
    "#math functions of numpyarray\n",
    "pyList = range(11)\n",
    "print(pyList)\n",
    "\n",
    "##arange in the range\n",
    "npArray_1= np.arange(11)\n",
    "print(npArray_1)\n",
    "\n",
    "##multiply\n",
    "npArray_2=npArray_1*np.pi\n",
    "print(npArray_2)\n",
    "\n",
    "npArray_3=np.sin(npArray_2)\n",
    "print(npArray_3)"
   ]
  },
  {
   "cell_type": "code",
   "execution_count": 33,
   "metadata": {},
   "outputs": [
    {
     "name": "stdout",
     "output_type": "stream",
     "text": [
      "[100. 200. 400. 500.]\n"
     ]
    }
   ],
   "source": [
    "#\n",
    "numOfMembersInFamilies=np.array([2,3,2,4])\n",
    "incomeOfFamilies=np.array([200, 600, 800, 2000])\n",
    "perPersonIncomeOfFamilies=incomeOfFamilies/numOfMembersInFamilies\n",
    "print(perPersonIncomeOfFamilies)"
   ]
  },
  {
   "cell_type": "code",
   "execution_count": null,
   "metadata": {},
   "outputs": [],
   "source": []
  }
 ],
 "metadata": {
  "kernelspec": {
   "display_name": "Python 3",
   "language": "python",
   "name": "python3"
  },
  "language_info": {
   "codemirror_mode": {
    "name": "ipython",
    "version": 3
   },
   "file_extension": ".py",
   "mimetype": "text/x-python",
   "name": "python",
   "nbconvert_exporter": "python",
   "pygments_lexer": "ipython3",
   "version": "3.7.1"
  }
 },
 "nbformat": 4,
 "nbformat_minor": 2
}
