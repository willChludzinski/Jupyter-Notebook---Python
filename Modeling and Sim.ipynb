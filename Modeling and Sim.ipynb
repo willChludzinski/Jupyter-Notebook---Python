{
 "cells": [
  {
   "cell_type": "code",
   "execution_count": 12,
   "metadata": {},
   "outputs": [
    {
     "ename": "SyntaxError",
     "evalue": "invalid syntax (<ipython-input-12-649177356b96>, line 9)",
     "output_type": "error",
     "traceback": [
      "\u001b[1;36m  File \u001b[1;32m\"<ipython-input-12-649177356b96>\"\u001b[1;36m, line \u001b[1;32m9\u001b[0m\n\u001b[1;33m    y = (y)/(y+ (1-y)np.exp(e,-t)))\u001b[0m\n\u001b[1;37m                      ^\u001b[0m\n\u001b[1;31mSyntaxError\u001b[0m\u001b[1;31m:\u001b[0m invalid syntax\n"
     ]
    }
   ],
   "source": [
    "%matplotlib inline\n",
    "import matplotlib\n",
    "import numpy as np\n",
    "import matplotlib.pyplot as plt\n",
    "\n",
    "plt.title('Exact vs Eulers Method Solution of dy/dx = y(1-y)')\n",
    "#x = np.linspace(0, .01, 10)\n",
    "#y = np.linspace(y,y(1-y))\n",
    "T = 9;\n",
    "m = 32 #64, 128\n",
    "k = T/m;\n",
    "\n",
    "\n",
    "\n",
    "y = (y)/(y+ (1-y)np.exp(e,-t))\n",
    "plt.plot(x, y)"
   ]
  },
  {
   "cell_type": "code",
   "execution_count": null,
   "metadata": {},
   "outputs": [],
   "source": []
  }
 ],
 "metadata": {
  "kernelspec": {
   "display_name": "Python 3",
   "language": "python",
   "name": "python3"
  },
  "language_info": {
   "codemirror_mode": {
    "name": "ipython",
    "version": 3
   },
   "file_extension": ".py",
   "mimetype": "text/x-python",
   "name": "python",
   "nbconvert_exporter": "python",
   "pygments_lexer": "ipython3",
   "version": "3.7.1"
  }
 },
 "nbformat": 4,
 "nbformat_minor": 2
}
