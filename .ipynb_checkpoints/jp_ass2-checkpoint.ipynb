{
 "cells": [
  {
   "cell_type": "markdown",
   "metadata": {},
   "source": [
    "### Assignment 2 - Python List\n",
    "Assignment to practice coding with python data structure - List\n",
    "\n",
    "Assignment, using questions at\n",
    "https://www.w3resource.com/python-exercises/list/\n",
    "\n",
    "Each question is a cell, with;\n",
    "+ question number from above link\n",
    "+ link to specific question explanation and sample solution\n",
    "+ \"# TODO replaceThisLineWithYourSolution\"\n",
    "\n",
    "Replace \"# TODO replaceThisLineWithYourSolution\" in below questions"
   ]
  },
  {
   "cell_type": "code",
   "execution_count": 13,
   "metadata": {},
   "outputs": [
    {
     "name": "stdout",
     "output_type": "stream",
     "text": [
      "15\n"
     ]
    }
   ],
   "source": [
    "# list -1 - An example on how to do it\n",
    "def sumIntElementsOfIntList(myIntList):\n",
    "    sumOfElements=0\n",
    "    for myIntElement in myIntList:\n",
    "        sumOfElements = sumOfElements + myIntElement\n",
    "    return sumOfElements\n",
    "\n",
    "myIntList1=[1,2,3,4,5]\n",
    "print(sumIntElementsOfIntList(myIntList1))"
   ]
  },
  {
   "cell_type": "code",
   "execution_count": 2,
   "metadata": {},
   "outputs": [
    {
     "name": "stdout",
     "output_type": "stream",
     "text": [
      "17\n"
     ]
    }
   ],
   "source": [
    "# 1, list#1\n",
    "# https://www.w3resource.com/python-exercises/list/python-data-type-list-exercise-1.php\n",
    "def sumList(items):\n",
    "    sumNumbers = 0\n",
    "    for x in items:\n",
    "        sumNumbers += x\n",
    "    return sumNumbers\n",
    "print(sumList([1,5,11]))"
   ]
  },
  {
   "cell_type": "code",
   "execution_count": 3,
   "metadata": {},
   "outputs": [
    {
     "name": "stdout",
     "output_type": "stream",
     "text": [
      "6\n"
     ]
    }
   ],
   "source": [
    "# 2, list#2\n",
    "# https://www.w3resource.com/python-exercises/list/python-data-type-list-exercise-2.php\n",
    "def multiplyList(items):\n",
    "    total = 1\n",
    "    for x in items:\n",
    "        total *= x\n",
    "    return total\n",
    "print(multiplyList([1,2,3]))"
   ]
  },
  {
   "cell_type": "code",
   "execution_count": 5,
   "metadata": {},
   "outputs": [
    {
     "name": "stdout",
     "output_type": "stream",
     "text": [
      "2\n"
     ]
    }
   ],
   "source": [
    "# 3, list#3\n",
    "# https://www.w3resource.com/python-exercises/list/python-data-type-list-exercise-3.php\n",
    "def listMax(list):\n",
    "    max = list[ 0 ]\n",
    "    for a in list:\n",
    "        if a > max:\n",
    "            max = a\n",
    "    return max\n",
    "print(listMax([1, 2, -2, 0]))"
   ]
  },
  {
   "cell_type": "code",
   "execution_count": 6,
   "metadata": {},
   "outputs": [
    {
     "name": "stdout",
     "output_type": "stream",
     "text": [
      "-2\n"
     ]
    }
   ],
   "source": [
    "# 4, list#4\n",
    "# https://www.w3resource.com/python-exercises/list/python-data-type-list-exercise-4.php\n",
    "def leastList( list ):\n",
    "    min = list[ 0 ]\n",
    "    for a in list:\n",
    "        if a < min:\n",
    "            min = a\n",
    "    return min\n",
    "print(leastList([1, 2, -2, 0]))"
   ]
  },
  {
   "cell_type": "code",
   "execution_count": 7,
   "metadata": {},
   "outputs": [
    {
     "name": "stdout",
     "output_type": "stream",
     "text": [
      "[(2, 1), (1, 2), (2, 3), (4, 4), (2, 5)]\n"
     ]
    }
   ],
   "source": [
    "# 5, list#6\n",
    "# https://www.w3resource.com/python-exercises/list/python-data-type-list-exercise-6.php\n",
    "def last(n): return n[-1]\n",
    "\n",
    "def sort_list_last(tuples):\n",
    "  return sorted(tuples, key=last)\n",
    "\n",
    "print(sort_list_last([(2, 5), (1, 2), (4, 4), (2, 3), (2, 1)]))"
   ]
  },
  {
   "cell_type": "code",
   "execution_count": 8,
   "metadata": {},
   "outputs": [
    {
     "name": "stdout",
     "output_type": "stream",
     "text": [
      "{40, 10, 80, 50, 20, 60, 30}\n"
     ]
    }
   ],
   "source": [
    "# 6, list#7\n",
    "# https://www.w3resource.com/python-exercises/list/python-data-type-list-exercise-7.php\n",
    "a = [10,20,30,20,10,50,60,40,80,50,40]\n",
    "\n",
    "duplicateItems = set()\n",
    "uniqueItems = []\n",
    "for x in a:\n",
    "    if x not in duplicateItems:\n",
    "        uniqueItems.append(x)\n",
    "        duplicateItems.add(x)\n",
    "\n",
    "print(duplicateItems)"
   ]
  },
  {
   "cell_type": "code",
   "execution_count": 9,
   "metadata": {},
   "outputs": [
    {
     "name": "stdout",
     "output_type": "stream",
     "text": [
      "List is empty\n"
     ]
    }
   ],
   "source": [
    "# 7, list#8\n",
    "# https://www.w3resource.com/python-exercises/list/python-data-type-list-exercise-8.php\n",
    "l = []\n",
    "if not l:\n",
    "  print(\"List is empty\")"
   ]
  },
  {
   "cell_type": "code",
   "execution_count": 12,
   "metadata": {},
   "outputs": [
    {
     "name": "stdout",
     "output_type": "stream",
     "text": [
      "[10, 22, 44, 23, 4]\n",
      "[10, 22, 44, 23, 4]\n"
     ]
    }
   ],
   "source": [
    "# 8, list#9\n",
    "# https://www.w3resource.com/python-exercises/list/python-data-type-list-exercise-9.php\n",
    "original = [10, 22, 44, 23, 4]\n",
    "new = list(original)\n",
    "print(original)\n",
    "print(new)"
   ]
  },
  {
   "cell_type": "code",
   "execution_count": 13,
   "metadata": {},
   "outputs": [
    {
     "name": "stdout",
     "output_type": "stream",
     "text": [
      "['quick', 'brown', 'jumps', 'over', 'lazy']\n"
     ]
    }
   ],
   "source": [
    "# 9, list#10\n",
    "# https://www.w3resource.com/python-exercises/list/python-data-type-list-exercise-10.php\n",
    "def long_words(n, str):\n",
    "    wordLength = []\n",
    "    txt = str.split(\" \")\n",
    "    for x in txt:\n",
    "        if len(x) > n:\n",
    "            wordLength.append(x)\n",
    "    return wordLength\t\n",
    "print(long_words(3, \"The quick brown fox jumps over the lazy dog\"))"
   ]
  },
  {
   "cell_type": "code",
   "execution_count": 14,
   "metadata": {},
   "outputs": [
    {
     "name": "stdout",
     "output_type": "stream",
     "text": [
      "True\n",
      "None\n"
     ]
    }
   ],
   "source": [
    "# 10, list#11\n",
    "# https://www.w3resource.com/python-exercises/list/python-data-type-list-exercise-11.php\n",
    "def commonEntries(list1, list2):\n",
    "     result = False\n",
    "     for x in list1:\n",
    "         for y in list2:\n",
    "             if x == y:\n",
    "                 result = True\n",
    "                 return result\n",
    "print(commonEntries([1,2,3,4,5], [5,6,7,8,9]))\n",
    "print(commonEntries([1,2,3,4,5], [6,7,8,9]))"
   ]
  },
  {
   "cell_type": "code",
   "execution_count": 15,
   "metadata": {},
   "outputs": [
    {
     "name": "stdout",
     "output_type": "stream",
     "text": [
      "[1, 3, 5, 7]\n"
     ]
    }
   ],
   "source": [
    "# 11, list#14\n",
    "# https://www.w3resource.com/python-exercises/list/python-data-type-list-exercise-14.php\n",
    "num = [1,2,3,4,5,6,7,8]\n",
    "num = [x for x in num if x%2!=0]\n",
    "print(num)\n"
   ]
  },
  {
   "cell_type": "code",
   "execution_count": 16,
   "metadata": {},
   "outputs": [
    {
     "name": "stdout",
     "output_type": "stream",
     "text": [
      "['Yellow', 'Red', 'Black', 'Green', 'Pink', 'White']\n"
     ]
    }
   ],
   "source": [
    "# 12, list#15\n",
    "# https://www.w3resource.com/python-exercises/list/python-data-type-list-exercise-15.php\n",
    "from random import shuffle\n",
    "color = ['Red', 'Green', 'White', 'Black', 'Pink', 'Yellow']\n",
    "shuffle(color)\n",
    "print(color)"
   ]
  },
  {
   "cell_type": "code",
   "execution_count": 17,
   "metadata": {},
   "outputs": [
    {
     "name": "stdout",
     "output_type": "stream",
     "text": [
      "[3, 4]\n"
     ]
    }
   ],
   "source": [
    "# 13, list#19\n",
    "# https://www.w3resource.com/python-exercises/list/python-data-type-list-exercise-19.php\n",
    "list1 = [1, 2, 3, 4]\n",
    "list2 = [1, 2]\n",
    "print(list(set(list1) - set(list2)))"
   ]
  },
  {
   "cell_type": "code",
   "execution_count": 18,
   "metadata": {},
   "outputs": [
    {
     "name": "stdout",
     "output_type": "stream",
     "text": [
      "1\n"
     ]
    }
   ],
   "source": [
    "# 14, list#22\n",
    "# https://www.w3resource.com/python-exercises/list/python-data-type-list-exercise-22.php\n",
    "num =[10, 30, 4, -6]\n",
    "print(num.index(30))"
   ]
  },
  {
   "cell_type": "code",
   "execution_count": 19,
   "metadata": {},
   "outputs": [
    {
     "name": "stdout",
     "output_type": "stream",
     "text": [
      "[2, 4, 3, 1, 5, 6, 9, 7, 9, 0]\n"
     ]
    }
   ],
   "source": [
    "# 15, list#23\n",
    "# https://www.w3resource.com/python-exercises/list/python-data-type-list-exercise-23.php\n",
    "import itertools\n",
    "original = [[2,4,3],[1,5,6], [9], [7,9,0]]\n",
    "new = list(itertools.chain(*original))\n",
    "print(new)"
   ]
  },
  {
   "cell_type": "code",
   "execution_count": 20,
   "metadata": {},
   "outputs": [
    {
     "name": "stdout",
     "output_type": "stream",
     "text": [
      "[1, 2, 3, 0, 'Red', 'Green', 'Black']\n"
     ]
    }
   ],
   "source": [
    "# 16, list#24\n",
    "# https://www.w3resource.com/python-exercises/list/python-data-type-list-exercise-24.php\n",
    "list1 = [1, 2, 3, 0]\n",
    "list2 = ['Red', 'Green', 'Black']\n",
    "final_list = list1 + list2\n",
    "print(final_list)"
   ]
  },
  {
   "cell_type": "code",
   "execution_count": 21,
   "metadata": {},
   "outputs": [
    {
     "name": "stdout",
     "output_type": "stream",
     "text": [
      "Green\n"
     ]
    }
   ],
   "source": [
    "# 17, list#25\n",
    "# https://www.w3resource.com/python-exercises/list/python-data-type-list-exercise-25.php\n",
    "import random\n",
    "color_list = ['Red', 'Blue', 'Green', 'White', 'Black']\n",
    "print(random.choice(color_list))"
   ]
  },
  {
   "cell_type": "code",
   "execution_count": 23,
   "metadata": {},
   "outputs": [
    {
     "name": "stdout",
     "output_type": "stream",
     "text": [
      "Original List :  [10, 20, 30, 40, 20, 50, 60, 40]\n",
      "List of unique numbers :  [40, 10, 50, 20, 60, 30]\n"
     ]
    }
   ],
   "source": [
    "# 18, list#29\n",
    "# https://www.w3resource.com/python-exercises/list/python-data-type-list-exercise-29.php\n",
    "listA = [10, 20, 30, 40, 20, 50, 60, 40]\n",
    "print(\"Original List : \",listA)\n",
    "listA = set(listA)\n",
    "newList = list(listA)\n",
    "print(\"List of unique numbers : \",newList)"
   ]
  },
  {
   "cell_type": "code",
   "execution_count": 24,
   "metadata": {},
   "outputs": [
    {
     "name": "stdout",
     "output_type": "stream",
     "text": [
      "Original List :  [10, 10, 10, 10, 20, 20, 20, 20, 40, 40, 50, 50, 30]\n",
      "Frequency of the elements in the List :  Counter({10: 4, 20: 4, 40: 2, 50: 2, 30: 1})\n"
     ]
    }
   ],
   "source": [
    "# 19, list#30\n",
    "# https://www.w3resource.com/python-exercises/list/python-data-type-list-exercise-30.php\n",
    "import collections\n",
    "my_list = [10,10,10,10,20,20,20,20,40,40,50,50,30]\n",
    "print(\"Original List : \",my_list)\n",
    "ctr = collections.Counter(my_list)\n",
    "print(\"Frequency of the elements in the List : \",ctr)"
   ]
  },
  {
   "cell_type": "code",
   "execution_count": 25,
   "metadata": {},
   "outputs": [
    {
     "name": "stdout",
     "output_type": "stream",
     "text": [
      "True\n",
      "False\n"
     ]
    }
   ],
   "source": [
    "# 20, list#32\n",
    "# https://www.w3resource.com/python-exercises/list/python-data-type-list-exercise-32.php\n",
    "def is_Sublist(l, s):\n",
    "\tsub_set = False\n",
    "\tif s == []:\n",
    "\t\tsub_set = True\n",
    "\telif s == l:\n",
    "\t\tsub_set = True\n",
    "\telif len(s) > len(l):\n",
    "\t\tsub_set = False\n",
    "\n",
    "\telse:\n",
    "\t\tfor i in range(len(l)):\n",
    "\t\t\tif l[i] == s[0]:\n",
    "\t\t\t\tn = 1\n",
    "\t\t\t\twhile (n < len(s)) and (l[i+n] == s[n]):\n",
    "\t\t\t\t\tn += 1\n",
    "\t\t\t\t\n",
    "\t\t\t\tif n == len(s):\n",
    "\t\t\t\t\tsub_set = True\n",
    "\n",
    "\treturn sub_set\n",
    "\n",
    "a = [2,4,3,5,7]\n",
    "b = [4,3]\n",
    "c = [3,7]\n",
    "print(is_Sublist(a, b))\n",
    "print(is_Sublist(a, c))"
   ]
  },
  {
   "cell_type": "code",
   "execution_count": 26,
   "metadata": {},
   "outputs": [
    {
     "name": "stdout",
     "output_type": "stream",
     "text": [
      "{'White', 'Green'}\n"
     ]
    }
   ],
   "source": [
    "# 21, list#37\n",
    "# https://www.w3resource.com/python-exercises/list/python-data-type-list-exercise-37.php\n",
    "color1 = \"Red\", \"Green\", \"Orange\", \"White\"\n",
    "color2 = \"Black\", \"Green\", \"White\", \"Pink\"\n",
    "print(set(color1) & set(color2))"
   ]
  },
  {
   "cell_type": "code",
   "execution_count": 27,
   "metadata": {},
   "outputs": [
    {
     "name": "stdout",
     "output_type": "stream",
     "text": [
      "Missing values in second list:  c,a,b\n",
      "Additional values in second list:  g,h\n"
     ]
    }
   ],
   "source": [
    "# 22, list#42\n",
    "# https://www.w3resource.com/python-exercises/list/python-data-type-list-exercise-42.php\n",
    "list1 = ['a','b','c','d','e','f']\n",
    "list2 = ['d','e','f','g','h']\n",
    "print('Missing values in second list: ', ','.join(set(list1).difference(list2)))\n",
    "print('Additional values in second list: ', ','.join(set(list2).difference(list1)))"
   ]
  },
  {
   "cell_type": "code",
   "execution_count": 28,
   "metadata": {},
   "outputs": [
    {
     "name": "stdout",
     "output_type": "stream",
     "text": [
      "Original List [[10, 20], [40], [30, 56, 25], [10, 20], [33], [40]]\n",
      "New List [[10, 20], [30, 56, 25], [33], [40]]\n"
     ]
    }
   ],
   "source": [
    "# 23, list#69\n",
    "# https://www.w3resource.com/python-exercises/list/python-data-type-list-exercise-69.php\n",
    "import itertools\n",
    "num = [[10, 20], [40], [30, 56, 25], [10, 20], [33], [40]]\n",
    "print(\"Original List\", num)\n",
    "num.sort()\n",
    "new_num = list(num for num,_ in itertools.groupby(num))\n",
    "print(\"New List\", new_num)\n"
   ]
  },
  {
   "cell_type": "markdown",
   "metadata": {},
   "source": [
    "## C dict\n",
    "https://www.w3resource.com/python-exercises/dictionary/python-data-type-dictionary-exercise-3.php"
   ]
  },
  {
   "cell_type": "code",
   "execution_count": 15,
   "metadata": {},
   "outputs": [
    {
     "name": "stdout",
     "output_type": "stream",
     "text": [
      "{'a': 'aVal', 'b': 'bVal', 'A': 'AVal', 'B': 'BVal', 'C': 'CVal', 'aa': 'aaVal', 'bb': 'bbVal', 'cc': 'ccVal', 'dd': 'ddVal'}\n"
     ]
    }
   ],
   "source": [
    "# dict - 3\n",
    "def concat3Dict(dict1,dict2,dict3):\n",
    "    concatedDict={}\n",
    "    for d in(dict1, dict2, dict3):\n",
    "        concatedDict.update(d)\n",
    "    return concatedDict\n",
    "        \n",
    "myDict1={'a':'aVal', 'b':'bVal'}\n",
    "myDict2={'A':'AVal', 'B':'BVal', 'C':'CVal'}\n",
    "myDict3={'aa':'aaVal', 'bb':'bbVal', 'cc':'ccVal', 'dd':'ddVal'}\n",
    "print(concat3Dict(myDict1, myDict2, myDict3))"
   ]
  }
 ],
 "metadata": {
  "kernelspec": {
   "display_name": "Python 3",
   "language": "python",
   "name": "python3"
  },
  "language_info": {
   "codemirror_mode": {
    "name": "ipython",
    "version": 3
   },
   "file_extension": ".py",
   "mimetype": "text/x-python",
   "name": "python",
   "nbconvert_exporter": "python",
   "pygments_lexer": "ipython3",
   "version": "3.7.1"
  }
 },
 "nbformat": 4,
 "nbformat_minor": 2
}
