{
 "cells": [
  {
   "cell_type": "code",
   "execution_count": 6,
   "metadata": {},
   "outputs": [],
   "source": [
    "def myFunc(arg1,arg2):                   #class ntoes 2/4/19\n",
    "    print(\"hello python\")\n",
    "    print(\"arg1:\", arg1)\n",
    "    print(\"arg2:\", arg2.__str__())\n",
    "    print(\"arg1:\",arg1, \" arg2:\", arg2)\n",
    "    return arg1+arg2\n"
   ]
  },
  {
   "cell_type": "code",
   "execution_count": 7,
   "metadata": {},
   "outputs": [
    {
     "name": "stdout",
     "output_type": "stream",
     "text": [
      "hello python\n",
      "arg1: 10\n",
      "arg2: 100\n",
      "arg1: 10  arg2: 100\n"
     ]
    },
    {
     "data": {
      "text/plain": [
       "110"
      ]
     },
     "execution_count": 7,
     "metadata": {},
     "output_type": "execute_result"
    }
   ],
   "source": [
    "myFunc(10,100)"
   ]
  },
  {
   "cell_type": "code",
   "execution_count": 10,
   "metadata": {},
   "outputs": [
    {
     "name": "stdout",
     "output_type": "stream",
     "text": [
      "str with single ' and double \" \n",
      "<class 'str'>\n",
      "<class 'int'>\n",
      "<class 'float'>\n",
      "<class 'bool'>\n",
      "<class 'bool'>\n",
      "<class 'float'>\n",
      "<class 'int'>\n",
      "<class 'str'>\n"
     ]
    }
   ],
   "source": [
    "myStrVar1=\"str1\"\n",
    "myStrVar2='str2'\n",
    "myStrVar3= '''str with single ' and double \" '''     \n",
    "print(myStrVar3)\n",
    "myInt=10\n",
    "myFloat=20.5\n",
    "myBool=True\n",
    "#types\n",
    "print(type(myStrVar1))\n",
    "print(type(myInt))\n",
    "print(type(myFloat))\n",
    "print(type(myBool))\n",
    "#converstions\n",
    "myBool2=bool('False')\n",
    "myFloat2=float('1.5')\n",
    "myInt2=int('20')\n",
    "myStr4myInt2=str(myInt2)\n",
    "print(type(myBool2))\n",
    "print(type(myFloat2))\n",
    "print(type(myInt2))\n",
    "print(type(myStr4myInt2))\n"
   ]
  },
  {
   "cell_type": "code",
   "execution_count": 11,
   "metadata": {},
   "outputs": [
    {
     "name": "stdout",
     "output_type": "stream",
     "text": [
      "hello python\n",
      "arg1: 20\n",
      "arg2: 200\n",
      "arg1: 20  arg2: 200\n",
      "220\n"
     ]
    }
   ],
   "source": [
    "myFuncAlias=myFunc    #2nd func favirable pointing to same func\n",
    "print(myFuncAlias(20,200))"
   ]
  },
  {
   "cell_type": "code",
   "execution_count": 13,
   "metadata": {},
   "outputs": [
    {
     "name": "stdout",
     "output_type": "stream",
     "text": [
      "attr1: ONE\n",
      "attr2: TWO , input: DOS\n"
     ]
    }
   ],
   "source": [
    "class MyClass:\n",
    "    def __init__(self,attr1val, attr2val):\n",
    "        self.attr1=attr1val\n",
    "        self.attr2=attr2val\n",
    "    \n",
    "    def myMethod(self):\n",
    "        print(\"attr1:\",self.attr1)\n",
    "        \n",
    "    def myMethod2(self, inp1):\n",
    "        print(\"attr2:\", self.attr2,  \", input:\", inp1)\n",
    "        \n",
    "myClassInstance=MyClass(\"ONE\", \"TWO\")\n",
    "myClassInstance.myMethod()\n",
    "myClassInstance.myMethod2(\"DOS\")"
   ]
  },
  {
   "cell_type": "code",
   "execution_count": 16,
   "metadata": {},
   "outputs": [
    {
     "name": "stdout",
     "output_type": "stream",
     "text": [
      "A\n",
      "b\n",
      "C\n",
      "d\n",
      "10\n",
      "11\n",
      "12\n",
      "0\n",
      "1\n",
      "2\n",
      "3\n",
      "4\n"
     ]
    }
   ],
   "source": [
    "#basic while loop\n",
    "myStrName='AbCd'\n",
    "for c in myStrName:\n",
    "    print(c)\n",
    "for i in range(10,13):\n",
    "    print(i)\n",
    "    i=0\n",
    "while (i<5):\n",
    "    print(i)\n",
    "    i+=1"
   ]
  },
  {
   "cell_type": "code",
   "execution_count": 17,
   "metadata": {},
   "outputs": [
    {
     "name": "stdout",
     "output_type": "stream",
     "text": [
      "0\n",
      "3\n",
      "6\n",
      "10\n",
      "11\n",
      "12\n",
      "0\n",
      "1\n",
      "2\n",
      "3\n",
      "4\n"
     ]
    }
   ],
   "source": [
    "myStrName='AbCd'            #looping in a range \n",
    "for i in range (0,9,3):\n",
    "    print(i)\n",
    "for i in range(10,13):\n",
    "    print(i)\n",
    "    i=0\n",
    "while (i<5):\n",
    "    print(i)\n",
    "    i+=1"
   ]
  },
  {
   "cell_type": "code",
   "execution_count": 31,
   "metadata": {},
   "outputs": [
    {
     "name": "stdout",
     "output_type": "stream",
     "text": [
      "<class 'list'>\n",
      "<class 'set'>\n",
      "<class 'tuple'>\n",
      "<class 'dict'>\n",
      "myList: [1, 2, 3, 5, 6, 6, 'seven']\n",
      "mySet: {1, 2, 3, 5, 6, 'seven'}\n",
      "myTuple: (1, 2, 3, 5, 'six')\n",
      "myDictionary: {'key1': 'value1', 'key2': 'value2'}\n",
      "1\n",
      "2\n",
      "3\n",
      "5\n",
      "6\n",
      "6\n",
      "seven\n",
      "1\n",
      "2\n",
      "3\n",
      "5\n",
      "six\n"
     ]
    }
   ],
   "source": [
    "myList=[1,2,3,5,6,6,'seven']  #mutable, allows dupes, ordered\n",
    "mySet={1,2,3,5,6,'seven'} #nonmutable, no dupes\n",
    "myTuple=(1,2,3,5,'six') #unmutable, allows dupes, ordered\n",
    "myDictionary={'key1' : 'value1', 'key2' : 'value2'} #dict is mutable, key are unique\n",
    "\n",
    "print(type(myList))\n",
    "print(type(mySet))\n",
    "print(type(myTuple))\n",
    "print(type(myDictionary))\n",
    "\n",
    "print('myList:', myList)\n",
    "print('mySet:', mySet)\n",
    "print('myTuple:', myTuple)\n",
    "print('myDictionary:', myDictionary)\n",
    "\n",
    "for item in myList:\n",
    "    print(item)\n",
    "    \n",
    "for item in myTuple:\n",
    "    print(item)\n",
    "    "
   ]
  },
  {
   "cell_type": "code",
   "execution_count": 32,
   "metadata": {},
   "outputs": [
    {
     "name": "stdout",
     "output_type": "stream",
     "text": [
      "BEFORE appends/insert, myList size: 7\n",
      "[1, 2, 3, 5, 6, 6, 'seven', 8, 'nine']\n",
      "AFTER appends/insert, myList size: 9\n",
      "AFTER insert [1, 2, 3, 'Quatro', 5, 6, 6, 'seven', 8, 'nine']\n",
      "1\n",
      "AFTER appends/insert, myList size: 10\n",
      "6\n",
      "5\n"
     ]
    }
   ],
   "source": [
    "#list methods to append, insertm, count\n",
    "print('BEFORE appends/insert, myList size:', len(myList))\n",
    "myList.append(8)\n",
    "myList.append('nine')\n",
    "print(myList)\n",
    "print('AFTER appends/insert, myList size:', len(myList))\n",
    "myList.insert(3, 'Quatro')\n",
    "print('AFTER insert', myList)\n",
    "print(myList.count(5))\n",
    "print('AFTER appends/insert, myList size:', len(myList))\n",
    "print(myList[6])\n",
    "print(myTuple[3])"
   ]
  },
  {
   "cell_type": "code",
   "execution_count": 33,
   "metadata": {},
   "outputs": [
    {
     "name": "stdout",
     "output_type": "stream",
     "text": [
      "[1, 2, 3]\n",
      "{1, 2, 3}\n",
      "(1, 2, 3)\n",
      "{'one': 1, 'two': 2, 'three': 3}\n"
     ]
    }
   ],
   "source": [
    "#list, set, tuple, dict, functions to create from tuple inputs\n",
    "print(list((1,2,3)))\n",
    "print(set((1,2,3)))\n",
    "print(tuple((1,2,3)))\n",
    "print(dict(one = 1, two = 2, three = 3))"
   ]
  },
  {
   "cell_type": "code",
   "execution_count": 34,
   "metadata": {},
   "outputs": [
    {
     "name": "stdout",
     "output_type": "stream",
     "text": [
      "myDictionary: mutable\n",
      "myTuple: not mutable\n"
     ]
    }
   ],
   "source": [
    "myDictionary[1] = 'zero'\n",
    "print('myDictionary: mutable')\n",
    "\n",
    "try:\n",
    "    myTuple[0] = 0 \n",
    "    print('myTuple: mutable')\n",
    "except:\n",
    "    print(\"myTuple: not mutable\")\n",
    "\n"
   ]
  },
  {
   "cell_type": "code",
   "execution_count": 40,
   "metadata": {},
   "outputs": [
    {
     "name": "stdout",
     "output_type": "stream",
     "text": [
      "myList: ['fish', 'dog', 'cat']\n",
      "myTuple: ('fish', 'dog', 'cat')\n",
      "myDictionary: {'fish': 'Bubbles', 'dog': 'Spot', 'cat': 'Frisky'}\n",
      "mySet: {'cat', 'dog', 'fish'}\n",
      "list:\n",
      "fish\n",
      "dog\n",
      "cat\n",
      "\n",
      "dictionary:\n",
      "fish - Bubbles\n",
      "dog - Spot\n",
      "cat - Frisky\n",
      "\n",
      "tuple:\n",
      "fish\n",
      "dog\n",
      "cat\n",
      "\n",
      "set:\n",
      "cat\n",
      "dog\n",
      "fish\n",
      "\n"
     ]
    }
   ],
   "source": [
    "myList = ['fish', 'dog', 'cat']\n",
    "myTuple = ('fish', 'dog', 'cat')\n",
    "myDictionary = {\n",
    "    'fish': 'Bubbles',\n",
    "    'dog': 'Spot',\n",
    "    'cat': 'Frisky',\n",
    "}\n",
    "\n",
    "mySet = {'fish', 'dog', 'cat'}\n",
    "\n",
    "print(\"myList:\", myList)\n",
    "print(\"myTuple:\", myTuple)\n",
    "print(\"myDictionary:\", myDictionary)\n",
    "print(\"mySet:\", mySet)\n",
    "\n",
    "print(\"list:\")\n",
    "for item in myList:\n",
    "    print (item)\n",
    "print()\n",
    "\n",
    "print(\"dictionary:\")    #loops through the keys\n",
    "for itemKey in myDictionary:\n",
    "    print(itemKey, '-', myDictionary[itemKey])\n",
    "print()\n",
    "\n",
    "\n",
    "print(\"tuple:\")\n",
    "for item in myTuple:\n",
    "    print (item)\n",
    "print()\n",
    "\n",
    "print(\"set:\")\n",
    "for item in mySet:\n",
    "    print (item)\n",
    "print()"
   ]
  },
  {
   "cell_type": "code",
   "execution_count": 4,
   "metadata": {},
   "outputs": [
    {
     "name": "stdout",
     "output_type": "stream",
     "text": [
      "Numbers:  {1, 2, 3, 4, 5, 6, 7, 8, 9, 10}\n",
      "Evens:  {2, 4, 6, 8, 10}\n",
      "Odd: {1, 3, 5, 7, 9}\n",
      "1 in numbers:  True\n",
      "1 in even:  False\n",
      "even.issubset(numbers): True\n",
      "numbers.issubset(odd): False\n",
      "even | odd:  {1, 2, 3, 4, 5, 6, 7, 8, 9, 10}\n",
      "even & odd:  set()\n",
      "numbers - odd:  {2, 4, 6, 8, 10}\n"
     ]
    }
   ],
   "source": [
    "numbers = {1,2,3,4,5,6,7,8,9,10}\n",
    "even = {2,4,6,8,10}\n",
    "odd = {1,3,5,7,9}\n",
    "\n",
    "print(\"Numbers: \", numbers)\n",
    "print(\"Evens: \", even)\n",
    "print('Odd:', odd)\n",
    "\n",
    "print(\"1 in numbers: \", 1 in numbers)\n",
    "print(\"1 in even: \", 1 in even)      \n",
    "print(\"even.issubset(numbers):\", even.issubset(numbers))\n",
    "print(\"numbers.issubset(odd):\", numbers.issubset(odd))\n",
    "print(\"even | odd: \", even | odd)\n",
    "print(\"even & odd: \", even & odd)\n",
    "print(\"numbers - odd: \", numbers - odd)\n"
   ]
  },
  {
   "cell_type": "code",
   "execution_count": 8,
   "metadata": {},
   "outputs": [],
   "source": [
    "import time\n",
    "def countdown(t):\n",
    "    while t:\n",
    "        mins, secs = divmod(t,60)\n",
    "        timeformat = '{:02d}:{:02d}'.format(mins,secs)\n",
    "        print(timeformat ,end='\\r', flush=False)\n",
    "        time.sleep(1)\n",
    "        t -=1\n",
    "    print('\\rTime to move on.')"
   ]
  },
  {
   "cell_type": "code",
   "execution_count": 9,
   "metadata": {},
   "outputs": [
    {
     "name": "stdout",
     "output_type": "stream",
     "text": [
      "Time to move on.\n"
     ]
    }
   ],
   "source": [
    "countdown(5)"
   ]
  },
  {
   "cell_type": "code",
   "execution_count": 31,
   "metadata": {},
   "outputs": [],
   "source": [
    "#2.11 notes\n",
    "class GrandParent:\n",
    "    def __init__(self, _name):\n",
    "        self.name = _name\n",
    "    \n",
    "    def __str__(self):\n",
    "        return 'GrandParent __str__ name:' + self.name\n",
    "    \n",
    "    def mySuper(self):\n",
    "        return super()\n",
    "        \n",
    "    def method1(self,_input1, _input2):\n",
    "        _retVal = _input1*_input2\n",
    "        print('GrandParent methods 1 returns: ', _retVal)\n",
    "        return _retVal\n",
    "    \n",
    "    def method2(self):\n",
    "        return self.__str__()\n",
    "    \n",
    "    def toString(self):\n",
    "        return self.name\n",
    "        \n",
    "class Parent(GrandParent):\n",
    "    def __init__(self, _name, _lastname):\n",
    "        GrandParent.__init__(self, _name)\n",
    "        self.lastname = _lastname\n",
    "        \n",
    "    def __str__(self):\n",
    "        return super().mySuper().__str__()#can not access super of GP unless it is exposed to it via a method\n",
    "        #return \"Parent __str__ name: \" + self.name + \" , lastname:\" + self.lastname\n",
    "        #return super().__str__()\n",
    "    \n",
    "    def method1(self,_input1, _input2):\n",
    "        _retVal = _input1+_input2\n",
    "        print('Parent methods 1 returns: ', _retVal)\n",
    "        return _retVal\n",
    "    \n",
    "    def toString(self):\n",
    "        return self.name + self.lastname\n",
    "    \n",
    "    def method2(self):\n",
    "        return self.__str__()\n",
    "    "
   ]
  },
  {
   "cell_type": "code",
   "execution_count": 32,
   "metadata": {},
   "outputs": [
    {
     "name": "stdout",
     "output_type": "stream",
     "text": [
      "joe\n",
      "joesmith\n",
      "GrandParent methods 1 returns:  1000\n",
      "1000\n",
      "Parent methods 1 returns:  110\n",
      "110\n",
      "GrandParent __str__ name:joe\n",
      "<__main__.Parent object at 0x00000158A91382E8>\n"
     ]
    }
   ],
   "source": [
    "_grandParent_1 = GrandParent('joe')\n",
    "_parent_1 = Parent('joe', 'smith')\n",
    "print(_grandParent_1.toString())\n",
    "print(_parent_1.toString())\n",
    "print(_grandParent_1.method1(10,100))\n",
    "print(_parent_1.method1(10,100))\n",
    "print(_grandParent_1.method2())\n",
    "print(_parent_1.method2())\n"
   ]
  },
  {
   "cell_type": "code",
   "execution_count": 6,
   "metadata": {},
   "outputs": [
    {
     "name": "stdout",
     "output_type": "stream",
     "text": [
      "30\n",
      "27\n",
      "6\n"
     ]
    }
   ],
   "source": [
    "#importing a module.py we wrote ourselves\n",
    "\n",
    "import myModule\n",
    "#the code below helps to reload modules without restarting kernal \n",
    "import importlib\n",
    "importlib.reload(myModule)\n",
    "\n",
    "print(myModule.myModuleFunction1(3))\n",
    "print(myModule.myModuleFunction2(3,9))\n",
    "print(myModule.myModuleFunction3(1,2,3))"
   ]
  },
  {
   "cell_type": "code",
   "execution_count": 3,
   "metadata": {},
   "outputs": [],
   "source": [
    "#Creating a module and using it\n",
    "### in C:\\CSCI6833_jupyternotebook create file named myModule.py\n",
    "### you can use triple quoted string for multi line comment\n"
   ]
  },
  {
   "cell_type": "code",
   "execution_count": 8,
   "metadata": {},
   "outputs": [
    {
     "ename": "ModuleNotFoundError",
     "evalue": "No module named 'mySubPackage_1'",
     "output_type": "error",
     "traceback": [
      "\u001b[1;31m---------------------------------------------------------------------------\u001b[0m",
      "\u001b[1;31mModuleNotFoundError\u001b[0m                       Traceback (most recent call last)",
      "\u001b[1;32m<ipython-input-8-6a380e549003>\u001b[0m in \u001b[0;36m<module>\u001b[1;34m\u001b[0m\n\u001b[0;32m      1\u001b[0m \u001b[1;31m#importing a package function\u001b[0m\u001b[1;33m\u001b[0m\u001b[1;33m\u001b[0m\u001b[1;33m\u001b[0m\u001b[0m\n\u001b[1;32m----> 2\u001b[1;33m \u001b[1;32mimport\u001b[0m \u001b[0mmyPackage\u001b[0m\u001b[1;33m.\u001b[0m\u001b[0mmySubPackage\u001b[0m\u001b[1;33m.\u001b[0m\u001b[0mmySubPackage1_Module1\u001b[0m\u001b[1;33m\u001b[0m\u001b[1;33m\u001b[0m\u001b[0m\n\u001b[0m\u001b[0;32m      3\u001b[0m \u001b[1;32mimport\u001b[0m \u001b[0mmyPackage\u001b[0m\u001b[1;33m.\u001b[0m\u001b[0mmySubPackage\u001b[0m\u001b[1;33m.\u001b[0m\u001b[0mmySubPackage1_Module2\u001b[0m\u001b[1;33m\u001b[0m\u001b[1;33m\u001b[0m\u001b[0m\n\u001b[0;32m      4\u001b[0m \u001b[1;32mimport\u001b[0m \u001b[0mmyPackage\u001b[0m\u001b[1;33m.\u001b[0m\u001b[0mmySubPackage2\u001b[0m\u001b[1;33m.\u001b[0m\u001b[0mmySubPackage2_Module1\u001b[0m\u001b[1;33m\u001b[0m\u001b[1;33m\u001b[0m\u001b[0m\n\u001b[0;32m      5\u001b[0m \u001b[1;32mimport\u001b[0m \u001b[0mmyPackage\u001b[0m\u001b[1;33m.\u001b[0m\u001b[0mmySubPackage2\u001b[0m\u001b[1;33m.\u001b[0m\u001b[0mmySubPackage2_Module2\u001b[0m\u001b[1;33m\u001b[0m\u001b[1;33m\u001b[0m\u001b[0m\n",
      "\u001b[1;32mC:\\CSCI6833_jupyternotebook\\myPackage\\__init__.py\u001b[0m in \u001b[0;36m<module>\u001b[1;34m\u001b[0m\n\u001b[1;32m----> 1\u001b[1;33m \u001b[1;32mfrom\u001b[0m \u001b[0mmySubPackage_1\u001b[0m \u001b[1;32mimport\u001b[0m \u001b[0mmySubPackage1_Module1\u001b[0m\u001b[1;33m\u001b[0m\u001b[1;33m\u001b[0m\u001b[0m\n\u001b[0m\u001b[0;32m      2\u001b[0m \u001b[1;32mfrom\u001b[0m \u001b[0mmySubPackage_1\u001b[0m \u001b[1;32mimport\u001b[0m \u001b[0mmySubPackage1_Module1\u001b[0m\u001b[1;33m\u001b[0m\u001b[1;33m\u001b[0m\u001b[0m\n\u001b[0;32m      3\u001b[0m \u001b[1;32mfrom\u001b[0m \u001b[0mmySubPackage2\u001b[0m \u001b[1;32mimport\u001b[0m \u001b[0mmySubPackage2_Module1\u001b[0m\u001b[1;33m\u001b[0m\u001b[1;33m\u001b[0m\u001b[0m\n\u001b[0;32m      4\u001b[0m \u001b[1;32mfrom\u001b[0m \u001b[0mmySubPackage2\u001b[0m \u001b[1;32mimport\u001b[0m \u001b[0mmySubPackage2_Module2\u001b[0m\u001b[1;33m\u001b[0m\u001b[1;33m\u001b[0m\u001b[0m\n\u001b[0;32m      5\u001b[0m \u001b[1;33m\u001b[0m\u001b[0m\n",
      "\u001b[1;31mModuleNotFoundError\u001b[0m: No module named 'mySubPackage_1'"
     ]
    }
   ],
   "source": [
    "#importing a package function\n",
    "import myPackage.mySubPackage.mySubPackage1_Module1\n",
    "import myPackage.mySubPackage.mySubPackage1_Module2\n",
    "import myPackage.mySubPackage2.mySubPackage2_Module1\n",
    "import myPackage.mySubPackage2.mySubPackage2_Module2"
   ]
  },
  {
   "cell_type": "code",
   "execution_count": null,
   "metadata": {},
   "outputs": [],
   "source": []
  }
 ],
 "metadata": {
  "kernelspec": {
   "display_name": "Python 3",
   "language": "python",
   "name": "python3"
  },
  "language_info": {
   "codemirror_mode": {
    "name": "ipython",
    "version": 3
   },
   "file_extension": ".py",
   "mimetype": "text/x-python",
   "name": "python",
   "nbconvert_exporter": "python",
   "pygments_lexer": "ipython3",
   "version": "3.7.1"
  }
 },
 "nbformat": 4,
 "nbformat_minor": 2
}
