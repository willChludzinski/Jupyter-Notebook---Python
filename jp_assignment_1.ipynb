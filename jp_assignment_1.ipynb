{
 "cells": [
  {
   "cell_type": "code",
   "execution_count": 9,
   "metadata": {},
   "outputs": [
    {
     "name": "stdout",
     "output_type": "stream",
     "text": [
      "key1 value1\n",
      "key2 value2\n"
     ]
    }
   ],
   "source": [
    "myDict={}\n",
    "myDictKeys=myDict.keys()\n",
    "for key in myDictKeys:\n",
    "    print(key)\n",
    "    \n",
    "myDict2={\"key1\":\"value1\", \"key2\":\"value2\"}\n",
    "myDictKeys=myDict2.keys()\n",
    "for key in myDictKeys:\n",
    "    print(key, myDict2[key])"
   ]
  },
  {
   "cell_type": "code",
   "execution_count": 11,
   "metadata": {},
   "outputs": [
    {
     "name": "stdout",
     "output_type": "stream",
     "text": [
      "g\n",
      "o\n",
      "o\n",
      "g\n",
      "l\n",
      "e\n",
      ".\n",
      "c\n",
      "o\n",
      "m\n",
      "{'g': 2, 'o': 3, 'l': 1, 'e': 1, '.': 1, 'c': 1, 'm': 1}\n"
     ]
    }
   ],
   "source": [
    "#this is the start of NumPY notes, 3/4/19\n",
    "#https://www.w3resource.com/python-exercises/\n",
    "str1='google.com'\n",
    "for c in str1:\n",
    "    print(c)\n",
    "\n",
    "    def charCountDict4Str(str2count):\n",
    "        myDict={}\n",
    "        for c in str2count:\n",
    "            myDictKeys=myDict.keys()\n",
    "            if c in myDictKeys:\n",
    "                myDict[c] +=1\n",
    "            else:\n",
    "                myDict[c]=1\n",
    "        return myDict\n",
    "\n",
    "print(charCountDict4Str(str1))"
   ]
  },
  {
   "cell_type": "code",
   "execution_count": 4,
   "metadata": {},
   "outputs": [
    {
     "name": "stdout",
     "output_type": "stream",
     "text": [
      "{'g': 2, 'o': 3, 'l': 1, 'e': 1, '.': 1, 'c': 1, 'm': 1}\n"
     ]
    }
   ],
   "source": [
    "def char_frequency(str1):\n",
    "    dict = {}\n",
    "    for n in str1:\n",
    "        keys = dict.keys()\n",
    "        if n in keys:\n",
    "            dict[n] += 1\n",
    "        else:\n",
    "            dict[n] = 1\n",
    "    return dict\n",
    "print(char_frequency('google.com'))"
   ]
  },
  {
   "cell_type": "code",
   "execution_count": 17,
   "metadata": {},
   "outputs": [
    {
     "name": "stdout",
     "output_type": "stream",
     "text": [
      "22\n"
     ]
    }
   ],
   "source": [
    "#List, problem 1\n",
    "myList=[1,2,3,6,10]\n",
    "def sumList(myList):\n",
    "    sum = 0;\n",
    "    for item in myList:\n",
    "        sum += item \n",
    "    return sum\n",
    "print(sumList(myList))\n",
    "        "
   ]
  },
  {
   "cell_type": "code",
   "execution_count": 20,
   "metadata": {},
   "outputs": [
    {
     "name": "stdout",
     "output_type": "stream",
     "text": [
      "{'a': 'aVal', 'b': 'bVal', 'A': 'AVal', 'B': 'BVal', 'C': 'CVal', 'aa': 'aaVal', 'bb': 'bbVal', 'cc': 'ccVal', 'dd': 'ddVal'}\n"
     ]
    }
   ],
   "source": [
    "###c dict \n",
    "def concat3Dict(dict1,dict2,dict3):\n",
    "    concatedDict={}\n",
    "    for d in(dict1, dict2, dict3):\n",
    "        concatedDict.update(d)\n",
    "    return concatedDict\n",
    "myDict1={'a':'aVal', 'b':'bVal'}\n",
    "myDict2={'A':'AVal', 'B':'BVal', 'C':'CVal'}\n",
    "myDict3={'aa':'aaVal', 'bb':'bbVal', 'cc':'ccVal', 'dd':'ddVal'}\n",
    "print(concat3Dict(myDict1, myDict2, myDict3))"
   ]
  },
  {
   "cell_type": "code",
   "execution_count": null,
   "metadata": {},
   "outputs": [],
   "source": []
  }
 ],
 "metadata": {
  "kernelspec": {
   "display_name": "Python 3",
   "language": "python",
   "name": "python3"
  },
  "language_info": {
   "codemirror_mode": {
    "name": "ipython",
    "version": 3
   },
   "file_extension": ".py",
   "mimetype": "text/x-python",
   "name": "python",
   "nbconvert_exporter": "python",
   "pygments_lexer": "ipython3",
   "version": "3.7.1"
  }
 },
 "nbformat": 4,
 "nbformat_minor": 2
}
